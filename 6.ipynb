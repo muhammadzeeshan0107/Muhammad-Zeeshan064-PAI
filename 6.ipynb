{
 "cells": [
  {
   "cell_type": "code",
   "execution_count": null,
   "metadata": {},
   "outputs": [
    {
     "name": "stdout",
     "output_type": "stream",
     "text": [
      "Image saved as processed_output.jpg\n"
     ]
    }
   ],
   "source": [
    "import cv2\n",
    "import numpy as np\n",
    "input_image = cv2.imread(r'C:\\Users\\ZEESHAN\\Desktop\\PAI-Lab\\images2.jpg') \n",
    "\n",
    "segmentation_mask = np.zeros(input_image.shape[:2], np.uint8)\n",
    "roi = (10, 10, input_image.shape[1]-10, input_image.shape[0]-10)  \n",
    "bg_model = np.zeros((1, 65), np.float64)\n",
    "fg_model = np.zeros((1, 65), np.float64)\n",
    "cv2.grabCut(input_image, segmentation_mask, roi, bg_model, fg_model, 5, cv2.GC_INIT_WITH_RECT)\n",
    "final_mask = np.where((segmentation_mask == 2) | (segmentation_mask == 0), 0, 1).astype('uint8')\n",
    "\n",
    "\n",
    "output_image = input_image * final_mask[:, :, np.newaxis]\n",
    "\n",
    "cv2.imshow('Processed Image', output_image)\n",
    "cv2.waitKey(0)\n",
    "cv2.destroyAllWindows()\n",
    "\n",
    "cv2.imwrite('processed_output.jpg', output_image)\n",
    "print(\"Image saved as processed_output.jpg\")"
   ]
  }
 ],
 "metadata": {
  "kernelspec": {
   "display_name": "env",
   "language": "python",
   "name": "python3"
  },
  "language_info": {
   "codemirror_mode": {
    "name": "ipython",
    "version": 3
   },
   "file_extension": ".py",
   "mimetype": "text/x-python",
   "name": "python",
   "nbconvert_exporter": "python",
   "pygments_lexer": "ipython3",
   "version": "3.12.0"
  }
 },
 "nbformat": 4,
 "nbformat_minor": 2
}
