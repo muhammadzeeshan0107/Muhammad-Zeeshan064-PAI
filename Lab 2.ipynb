{
 "cells": [
  {
   "cell_type": "code",
   "execution_count": 1,
   "id": "fd7b3ec4",
   "metadata": {
    "_cell_guid": "b1076dfc-b9ad-4769-8c92-a6c4dae69d19",
    "_uuid": "8f2839f25d086af736a60e9eeb907d3b93b6e0e5",
    "execution": {
     "iopub.execute_input": "2025-02-06T09:18:09.903445Z",
     "iopub.status.busy": "2025-02-06T09:18:09.903048Z",
     "iopub.status.idle": "2025-02-06T09:18:14.099749Z",
     "shell.execute_reply": "2025-02-06T09:18:14.098418Z"
    },
    "papermill": {
     "duration": 4.202048,
     "end_time": "2025-02-06T09:18:14.101678",
     "exception": false,
     "start_time": "2025-02-06T09:18:09.899630",
     "status": "completed"
    },
    "tags": []
   },
   "outputs": [
    {
     "name": "stderr",
     "output_type": "stream",
     "text": [
      "C:\\Users\\ZEESHAN\\AppData\\Local\\Temp\\ipykernel_5128\\748861679.py:12: FutureWarning: DataFrame.fillna with 'method' is deprecated and will raise in a future version. Use obj.ffill() or obj.bfill() instead.\n",
      "  df.fillna(method='ffill', inplace=True)\n",
      "C:\\Users\\ZEESHAN\\AppData\\Local\\Temp\\ipykernel_5128\\748861679.py:12: FutureWarning: Downcasting object dtype arrays on .fillna, .ffill, .bfill is deprecated and will change in a future version. Call result.infer_objects(copy=False) instead. To opt-in to the future behavior, set `pd.set_option('future.no_silent_downcasting', True)`\n",
      "  df.fillna(method='ffill', inplace=True)\n",
      "C:\\Users\\ZEESHAN\\AppData\\Local\\Temp\\ipykernel_5128\\748861679.py:12: FutureWarning: DataFrame.fillna with 'method' is deprecated and will raise in a future version. Use obj.ffill() or obj.bfill() instead.\n",
      "  df.fillna(method='ffill', inplace=True)\n",
      "C:\\Users\\ZEESHAN\\AppData\\Local\\Temp\\ipykernel_5128\\748861679.py:12: FutureWarning: Downcasting object dtype arrays on .fillna, .ffill, .bfill is deprecated and will change in a future version. Call result.infer_objects(copy=False) instead. To opt-in to the future behavior, set `pd.set_option('future.no_silent_downcasting', True)`\n",
      "  df.fillna(method='ffill', inplace=True)\n"
     ]
    },
    {
     "name": "stdout",
     "output_type": "stream",
     "text": [
      "Validation Accuracy: 0.7855\n",
      "Submission file saved successfully!\n"
     ]
    }
   ],
   "source": [
    "import numpy as np\n",
    "import pandas as pd\n",
    "import os\n",
    "from sklearn.model_selection import train_test_split\n",
    "from sklearn.preprocessing import LabelEncoder, StandardScaler\n",
    "from sklearn.ensemble import RandomForestClassifier\n",
    "from sklearn.metrics import accuracy_score\n",
    "train_df = pd.read_csv(r\"C:\\Users\\ZEESHAN\\Desktop\\PAI-Lab\\train.csv\")\n",
    "test_df = pd.read_csv(r\"C:\\Users\\ZEESHAN\\Desktop\\PAI-Lab\\test.csv\")\n",
    "encoders = {}\n",
    "def preprocess_data(df, is_train=True):\n",
    "    df.fillna(method='ffill', inplace=True)\n",
    "    df[['Deck', 'Num', 'Side']] = df['Cabin'].fillna(\"Unknown/0/Unknown\").str.split('/', expand=True)\n",
    "    df.drop(columns=['Name', 'PassengerId', 'Cabin'], inplace=True, errors='ignore')\n",
    "    categorical_features = df.select_dtypes(include=['object']).columns\n",
    "    for col in categorical_features:\n",
    "        if is_train:\n",
    "            encoders[col] = LabelEncoder()\n",
    "            df[col] = encoders[col].fit_transform(df[col].astype(str))\n",
    "        else:\n",
    "            df[col] = df[col].astype(str).map(lambda x: encoders[col].transform([x])[0] if x in encoders[col].classes_ else -1)\n",
    "\n",
    "    return df\n",
    "train_df = preprocess_data(train_df, is_train=True)\n",
    "test_df = preprocess_data(test_df, is_train=False)\n",
    "X = train_df.drop(columns=['Transported'])\n",
    "y = train_df['Transported']\n",
    "X_train, X_val, y_train, y_val = train_test_split(X, y, test_size=0.2, random_state=42)\n",
    "scaler = StandardScaler()\n",
    "num_features = X_train.select_dtypes(include=['number']).columns\n",
    "X_train[num_features] = scaler.fit_transform(X_train[num_features])\n",
    "X_val[num_features] = scaler.transform(X_val[num_features])\n",
    "test_df[num_features] = scaler.transform(test_df[num_features])\n",
    "\n",
    "# Train Model\n",
    "model = RandomForestClassifier(n_estimators=100, random_state=42)\n",
    "model.fit(X_train, y_train)\n",
    "\n",
    "# Evaluate Model\n",
    "y_pred = model.predict(X_val)\n",
    "accuracy = accuracy_score(y_val, y_pred)\n",
    "print(f'Validation Accuracy: {accuracy:.4f}')\n",
    "\n",
    "# Make Predictions\n",
    "test_predictions = model.predict(test_df)\n",
    "\n",
    "# Create Submission File\n",
    "submission = pd.DataFrame({\n",
    "    \"PassengerId\": pd.read_csv(r\"C:\\Users\\ZEESHAN\\Desktop\\PAI-Lab\\test.csv\")[\"PassengerId\"],\n",
    "    \"Transported\": test_predictions\n",
    "})\n",
    "submission.to_csv(\"submission.csv\", index=False)\n",
    "print(\"Submission file saved successfully!\")\n"
   ]
  }
 ],
 "metadata": {
  "kaggle": {
   "accelerator": "none",
   "dataSources": [
    {
     "databundleVersionId": 3220602,
     "sourceId": 34377,
     "sourceType": "competition"
    }
   ],
   "dockerImageVersionId": 30839,
   "isGpuEnabled": false,
   "isInternetEnabled": true,
   "language": "python",
   "sourceType": "notebook"
  },
  "kernelspec": {
   "display_name": "Python 3",
   "language": "python",
   "name": "python3"
  },
  "language_info": {
   "codemirror_mode": {
    "name": "ipython",
    "version": 3
   },
   "file_extension": ".py",
   "mimetype": "text/x-python",
   "name": "python",
   "nbconvert_exporter": "python",
   "pygments_lexer": "ipython3",
   "version": "3.12.0"
  },
  "papermill": {
   "default_parameters": {},
   "duration": 7.702856,
   "end_time": "2025-02-06T09:18:14.831423",
   "environment_variables": {},
   "exception": null,
   "input_path": "__notebook__.ipynb",
   "output_path": "__notebook__.ipynb",
   "parameters": {},
   "start_time": "2025-02-06T09:18:07.128567",
   "version": "2.6.0"
  }
 },
 "nbformat": 4,
 "nbformat_minor": 5
}
