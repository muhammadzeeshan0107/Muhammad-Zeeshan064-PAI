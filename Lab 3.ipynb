{
 "cells": [
  {
   "cell_type": "code",
   "execution_count": null,
   "metadata": {},
   "outputs": [
    {
     "name": "stdout",
     "output_type": "stream",
     "text": [
      "Solution Found!\n",
      "(0, 0)\n",
      "(0, 3)\n",
      "(3, 0)\n",
      "(3, 3)\n",
      "(4, 2)\n"
     ]
    },
    {
     "data": {
      "text/plain": [
       "True"
      ]
     },
     "execution_count": 1,
     "metadata": {},
     "output_type": "execute_result"
    }
   ],
   "source": [
    "from collections import deque\n",
    "def waterJugProblem(capacity1, capacity2, goal):\n",
    "    queue = deque()\n",
    "    visited = set()\n",
    "    queue.append((0, 0, [])) \n",
    "    visited.add((0, 0))\n",
    "    while queue:\n",
    "        jug1, jug2, path = queue.popleft()\n",
    "        path.append((jug1, jug2))\n",
    "        if jug1 == goal or jug2 == goal:\n",
    "            print(\"Solution Found!\")\n",
    "            for action in path:\n",
    "                print(action)\n",
    "            return True\n",
    "        possible_states = [\n",
    "            (capacity1, jug2),  \n",
    "            (jug1, capacity2),  \n",
    "            (0, jug2),          \n",
    "            (jug1, 0),           \n",
    "            (jug1 - min(jug1, capacity2 - jug2), jug2 + min(jug1, capacity2 - jug2)),\n",
    "            (jug1 + min(jug2, capacity1 - jug1), jug2 - min(jug2, capacity1 - jug1))\n",
    "        ]\n",
    "        for state in possible_states:\n",
    "            if state[:2] not in visited:\n",
    "                visited.add(state[:2])\n",
    "                queue.append((state[0], state[1], path.copy()))\n",
    "    print(\"No Solution Found\")\n",
    "    return False\n",
    "jug1Capacity = 4\n",
    "jug2Capacity = 3\n",
    "target = 2\n",
    "waterJugProblem(jug1Capacity, jug2Capacity, target)"
   ]
  }
 ],
 "metadata": {
  "kernelspec": {
   "display_name": "Python 3",
   "language": "python",
   "name": "python3"
  },
  "language_info": {
   "codemirror_mode": {
    "name": "ipython",
    "version": 3
   },
   "file_extension": ".py",
   "mimetype": "text/x-python",
   "name": "python",
   "nbconvert_exporter": "python",
   "pygments_lexer": "ipython3",
   "version": "3.12.0"
  }
 },
 "nbformat": 4,
 "nbformat_minor": 2
}
