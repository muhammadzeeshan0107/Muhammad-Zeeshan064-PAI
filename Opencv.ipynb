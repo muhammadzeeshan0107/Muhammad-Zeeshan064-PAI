{
 "cells": [
  {
   "cell_type": "code",
   "execution_count": 2,
   "metadata": {},
   "outputs": [],
   "source": [
    "import cv2\n"
   ]
  },
  {
   "cell_type": "code",
   "execution_count": null,
   "metadata": {},
   "outputs": [],
   "source": [
    "import cv2\n",
    "image = cv2.imread('pic23-300x243.png')\n",
    "cv2.imshow('Image Window', image)\n",
    "cv2.waitKey(0)\n",
    "cv2.destroyAllWindows()\n"
   ]
  },
  {
   "cell_type": "code",
   "execution_count": null,
   "metadata": {},
   "outputs": [],
   "source": [
    "import cv2\n",
    "image = cv2.imread('pic23-300x243.png')\n",
    "new_width = 1000\n",
    "new_height = 1000\n",
    "resized_image = cv2.resize(image, (new_width, new_height))\n",
    "cv2.imshow('Resized Image', resized_image)\n",
    "cv2.waitKey(0)\n",
    "cv2.destroyAllWindows()\n"
   ]
  },
  {
   "cell_type": "code",
   "execution_count": null,
   "metadata": {},
   "outputs": [],
   "source": [
    "import cv2\n",
    "import numpy as np\n",
    "image = cv2.imread('pic23-300x243.png')\n",
    "if image is None:\n",
    "    print(\"Error: Image not found or unable to load.\")\n",
    "else:\n",
    "    (height, width) = image.shape[:2]\n",
    "    angle = 45 \n",
    "    scale = 1.0 \n",
    "    rotation_matrix = cv2.getRotationMatrix2D((width / 2, height / 2), angle, scale)\n",
    "    rotated_image = cv2.warpAffine(image, rotation_matrix, (width, height))\n",
    "    cv2.imshow('Rotated Image', rotated_image)\n",
    "    cv2.waitKey(0)\n",
    "    cv2.destroyAllWindows()\n"
   ]
  },
  {
   "cell_type": "code",
   "execution_count": null,
   "metadata": {},
   "outputs": [],
   "source": [
    "import cv2\n",
    "image = cv2.imread('pic23-300x243.png', cv2.IMREAD_GRAYSCALE)\n",
    "if image is None:\n",
    "    print(\"Error: Image not found or unable to load.\")\n",
    "else:\n",
    "    threshold1 = 100\n",
    "    threshold2 = 200\n",
    "    edges = cv2.Canny(image, threshold1, threshold2)\n",
    "    cv2.imshow('Edges', edges)\n",
    "    cv2.waitKey(0)\n",
    "    cv2.destroyAllWindows()\n"
   ]
  },
  {
   "cell_type": "code",
   "execution_count": null,
   "metadata": {},
   "outputs": [],
   "source": [
    "import cv2\n",
    "face_cascade = cv2.CascadeClassifier(cv2.data.haarcascades + 'haarcascade_frontalface_default.xml')\n",
    "image = cv2.imread('pic23-300x243.png')\n",
    "gray_image = cv2.cvtColor(image, cv2.COLOR_BGR2GRAY)\n",
    "faces = face_cascade.detectMultiScale(gray_image, scaleFactor=1.1, minNeighbors=5)\n",
    "for (x, y, w, h) in faces:\n",
    "    cv2.rectangle(image, (x, y), (x + w, y + h), (255, 0, 0), 2)\n",
    "cv2.imshow('Detected Faces', image)\n",
    "cv2.waitKey(0)\n",
    "cv2.destroyAllWindows()\n"
   ]
  },
  {
   "cell_type": "code",
   "execution_count": 12,
   "metadata": {},
   "outputs": [],
   "source": [
    "import cv2\n",
    "import pytesseract\n",
    "image = cv2.imread('pic23-300x243.png')\n",
    "if image is None:\n",
    "    print(\"Error: Image not found or unable to load.\")\n",
    "else:\n",
    "    gray = cv2.cvtColor(image, cv2.COLOR_BGR2GRAY)\n",
    "\n",
    "    # (Optional) Display the grayscale image\n",
    "    cv2.imshow('Grayscale Image', gray)\n",
    "    cv2.waitKey(0)\n",
    "    cv2.destroyAllWindows()\n"
   ]
  }
 ],
 "metadata": {
  "kernelspec": {
   "display_name": "env",
   "language": "python",
   "name": "python3"
  },
  "language_info": {
   "codemirror_mode": {
    "name": "ipython",
    "version": 3
   },
   "file_extension": ".py",
   "mimetype": "text/x-python",
   "name": "python",
   "nbconvert_exporter": "python",
   "pygments_lexer": "ipython3",
   "version": "3.12.0"
  }
 },
 "nbformat": 4,
 "nbformat_minor": 2
}
